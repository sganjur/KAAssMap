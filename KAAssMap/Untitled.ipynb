{
 "cells": [
  {
   "cell_type": "code",
   "execution_count": 1,
   "metadata": {
    "collapsed": true
   },
   "outputs": [],
   "source": [
    "import pandas as pd\n",
    "import numpy as np\n",
    "import KAUtils as KAU\n",
    "   \n",
    "\n",
    "def printWinners(df):\n",
    "    bjpdf = df.loc[(df['PARTY']=='BJP') & (df['POSITION'] == 1)]\n",
    "    print(\"BJP: \",len(bjpdf.index))\n",
    "    incdf = df.loc[(df['PARTY']=='INC') & (df['POSITION'] == 1)]\n",
    "    print(\"INC: \",len(incdf.index))\n",
    "    jdsdf = df.loc[(df['PARTY']=='JD(S)') & (df['POSITION'] == 1)]\n",
    "    print(\"JDS: \",len(jdsdf.index))\n",
    "    inddf = df.loc[(df['PARTY']=='IND') & (df['POSITION'] == 1)]\n",
    "    print(\"IND: \",len(inddf.index))\n"
   ]
  },
  {
   "cell_type": "code",
   "execution_count": 2,
   "metadata": {
    "collapsed": true
   },
   "outputs": [],
   "source": [
    "fdf = KAU.getKAResults()"
   ]
  },
  {
   "cell_type": "code",
   "execution_count": 4,
   "metadata": {
    "collapsed": false
   },
   "outputs": [],
   "source": [
    "ydf = KAU.getKAResultsByYear(2013)"
   ]
  },
  {
   "cell_type": "code",
   "execution_count": 5,
   "metadata": {
    "collapsed": true
   },
   "outputs": [],
   "source": [
    "ydf = KAU.changeElectionYear(ydf,2013,2018)"
   ]
  },
  {
   "cell_type": "code",
   "execution_count": 7,
   "metadata": {
    "collapsed": false
   },
   "outputs": [],
   "source": [
    "ydf = KAU.kjp2bjp(ydf,100)"
   ]
  },
  {
   "cell_type": "code",
   "execution_count": 8,
   "metadata": {
    "collapsed": true
   },
   "outputs": [],
   "source": [
    "ydf = KAU.bsrcp2bjp(ydf,100)"
   ]
  },
  {
   "cell_type": "code",
   "execution_count": 9,
   "metadata": {
    "collapsed": true
   },
   "outputs": [],
   "source": [
    "ydf1 = ydf.loc[ydf['VOTES'] > 0]"
   ]
  },
  {
   "cell_type": "code",
   "execution_count": 13,
   "metadata": {
    "collapsed": false
   },
   "outputs": [],
   "source": [
    "ydf = ydf1"
   ]
  },
  {
   "cell_type": "code",
   "execution_count": 17,
   "metadata": {
    "collapsed": true
   },
   "outputs": [],
   "source": [
    "fdf1 = fdf.loc[fdf['YEAR'] <= 2013]"
   ]
  },
  {
   "cell_type": "code",
   "execution_count": 22,
   "metadata": {
    "collapsed": false
   },
   "outputs": [],
   "source": [
    "import pandas as pd\n",
    "mdf = pd.concat([fdf1,ydf1])"
   ]
  },
  {
   "cell_type": "code",
   "execution_count": 23,
   "metadata": {
    "collapsed": false
   },
   "outputs": [
    {
     "data": {
      "text/html": [
       "<div>\n",
       "<style scoped>\n",
       "    .dataframe tbody tr th:only-of-type {\n",
       "        vertical-align: middle;\n",
       "    }\n",
       "\n",
       "    .dataframe tbody tr th {\n",
       "        vertical-align: top;\n",
       "    }\n",
       "\n",
       "    .dataframe thead th {\n",
       "        text-align: right;\n",
       "    }\n",
       "</style>\n",
       "<table border=\"1\" class=\"dataframe\">\n",
       "  <thead>\n",
       "    <tr style=\"text-align: right;\">\n",
       "      <th></th>\n",
       "      <th>ST_NAME</th>\n",
       "      <th>YEAR</th>\n",
       "      <th>AC_NO</th>\n",
       "      <th>POSITION</th>\n",
       "      <th>AC_NAME</th>\n",
       "      <th>AC_TYPE</th>\n",
       "      <th>NAME</th>\n",
       "      <th>SEX</th>\n",
       "      <th>AGE</th>\n",
       "      <th>CATEGORY</th>\n",
       "      <th>PARTY</th>\n",
       "      <th>VOTES</th>\n",
       "    </tr>\n",
       "  </thead>\n",
       "  <tbody>\n",
       "    <tr>\n",
       "      <th>19891</th>\n",
       "      <td>Karnataka</td>\n",
       "      <td>2018</td>\n",
       "      <td>224</td>\n",
       "      <td>4</td>\n",
       "      <td>GUNDLUPET</td>\n",
       "      <td>GEN</td>\n",
       "      <td>B.P. MUDDUMALLU</td>\n",
       "      <td>M</td>\n",
       "      <td>52.0</td>\n",
       "      <td>GEN</td>\n",
       "      <td>JD(S)</td>\n",
       "      <td>4017.0</td>\n",
       "    </tr>\n",
       "    <tr>\n",
       "      <th>19892</th>\n",
       "      <td>Karnataka</td>\n",
       "      <td>2018</td>\n",
       "      <td>224</td>\n",
       "      <td>5</td>\n",
       "      <td>GUNDLUPET</td>\n",
       "      <td>GEN</td>\n",
       "      <td>G.M. GADKAR</td>\n",
       "      <td>M</td>\n",
       "      <td>53.0</td>\n",
       "      <td>GEN</td>\n",
       "      <td>SAJP</td>\n",
       "      <td>3123.0</td>\n",
       "    </tr>\n",
       "    <tr>\n",
       "      <th>19893</th>\n",
       "      <td>Karnataka</td>\n",
       "      <td>2018</td>\n",
       "      <td>224</td>\n",
       "      <td>6</td>\n",
       "      <td>GUNDLUPET</td>\n",
       "      <td>GEN</td>\n",
       "      <td>SUBHASH</td>\n",
       "      <td>M</td>\n",
       "      <td>38.0</td>\n",
       "      <td>SC</td>\n",
       "      <td>IND</td>\n",
       "      <td>3041.0</td>\n",
       "    </tr>\n",
       "    <tr>\n",
       "      <th>19895</th>\n",
       "      <td>Karnataka</td>\n",
       "      <td>2018</td>\n",
       "      <td>224</td>\n",
       "      <td>7</td>\n",
       "      <td>GUNDLUPET</td>\n",
       "      <td>GEN</td>\n",
       "      <td>P. SANGHASENA</td>\n",
       "      <td>M</td>\n",
       "      <td>50.0</td>\n",
       "      <td>SC</td>\n",
       "      <td>RPI(A)</td>\n",
       "      <td>1588.0</td>\n",
       "    </tr>\n",
       "    <tr>\n",
       "      <th>19896</th>\n",
       "      <td>Karnataka</td>\n",
       "      <td>2018</td>\n",
       "      <td>224</td>\n",
       "      <td>8</td>\n",
       "      <td>GUNDLUPET</td>\n",
       "      <td>GEN</td>\n",
       "      <td>MARIDASAIAH</td>\n",
       "      <td>M</td>\n",
       "      <td>58.0</td>\n",
       "      <td>SC</td>\n",
       "      <td>IND</td>\n",
       "      <td>1546.0</td>\n",
       "    </tr>\n",
       "  </tbody>\n",
       "</table>\n",
       "</div>"
      ],
      "text/plain": [
       "         ST_NAME  YEAR  AC_NO  POSITION    AC_NAME AC_TYPE             NAME  \\\n",
       "19891  Karnataka  2018    224         4  GUNDLUPET     GEN  B.P. MUDDUMALLU   \n",
       "19892  Karnataka  2018    224         5  GUNDLUPET     GEN      G.M. GADKAR   \n",
       "19893  Karnataka  2018    224         6  GUNDLUPET     GEN          SUBHASH   \n",
       "19895  Karnataka  2018    224         7  GUNDLUPET     GEN    P. SANGHASENA   \n",
       "19896  Karnataka  2018    224         8  GUNDLUPET     GEN      MARIDASAIAH   \n",
       "\n",
       "      SEX   AGE CATEGORY   PARTY   VOTES  \n",
       "19891   M  52.0      GEN   JD(S)  4017.0  \n",
       "19892   M  53.0      GEN    SAJP  3123.0  \n",
       "19893   M  38.0       SC     IND  3041.0  \n",
       "19895   M  50.0       SC  RPI(A)  1588.0  \n",
       "19896   M  58.0       SC     IND  1546.0  "
      ]
     },
     "execution_count": 23,
     "metadata": {},
     "output_type": "execute_result"
    }
   ],
   "source": [
    "mdf.tail()"
   ]
  },
  {
   "cell_type": "code",
   "execution_count": 24,
   "metadata": {
    "collapsed": true
   },
   "outputs": [],
   "source": [
    "mdf.to_csv(\"./Data/KA_Projected_Base_Results.csv\")"
   ]
  },
  {
   "cell_type": "code",
   "execution_count": null,
   "metadata": {
    "collapsed": true
   },
   "outputs": [],
   "source": []
  }
 ],
 "metadata": {
  "kernelspec": {
   "display_name": "Python 3",
   "language": "python",
   "name": "python3"
  },
  "language_info": {
   "codemirror_mode": {
    "name": "ipython",
    "version": 3
   },
   "file_extension": ".py",
   "mimetype": "text/x-python",
   "name": "python",
   "nbconvert_exporter": "python",
   "pygments_lexer": "ipython3",
   "version": "3.6.0"
  }
 },
 "nbformat": 4,
 "nbformat_minor": 2
}
