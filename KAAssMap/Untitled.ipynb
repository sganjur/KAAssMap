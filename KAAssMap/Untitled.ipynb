{
 "cells": [
  {
   "cell_type": "code",
   "execution_count": 7,
   "metadata": {
    "collapsed": true
   },
   "outputs": [],
   "source": [
    "from bokeh.models import ColumnDataSource\n",
    "from bokeh.models.widgets import DataTable, DateFormatter, TableColumn\n",
    "from bokeh.plotting import output_notebook, show, output_file\n",
    "\n",
    "def getPartyTblStuff(df):\n",
    "    \n",
    "    pdf = df.copy()\n",
    "    pdf = pdf.loc[pdf['SEATS_WON'] > 0]\n",
    "    pdf = pdf.sort_values(by=['SEATS_WON','PARTY'],ascending=[False,True])\n",
    "    \n",
    "    data = dict (\n",
    "        labels=pdf['PARTY'].tolist(),\n",
    "        values1=pdf['SEATS_WON'],\n",
    "        values2=pdf['PCT_VOTES_WON']\n",
    "    )\n",
    "  \n",
    "    source = ColumnDataSource(data)\n",
    "\n",
    "    columns = [\n",
    "        TableColumn(field=\"labels\", title=\"Party\"),\n",
    "        TableColumn(field=\"values1\", title=\"Seats Won\"),\n",
    "        TableColumn(field=\"values2\", title=\"% Vote Share\"),\n",
    "    ]\n",
    "    \n",
    "    tblStuff = {\"source\":source, \"columns\":columns}\n",
    "    \n",
    "     \n",
    "    return tblStuff\n",
    "\n",
    "def TableDisplay(tblStuff):\n",
    "    source = tblStuff['source']\n",
    "    columns = tblStuff['columns']\n",
    "    data_table = DataTable(source=source, columns=columns, width=400, height=200)\n",
    "    return data_table, source\n",
    "\n"
   ]
  },
  {
   "cell_type": "code",
   "execution_count": 8,
   "metadata": {
    "collapsed": true
   },
   "outputs": [],
   "source": [
    "import KAUtils as KAU\n",
    "res = KAU.getKAPartyResultsByYear(2013)"
   ]
  },
  {
   "cell_type": "code",
   "execution_count": 9,
   "metadata": {
    "collapsed": false
   },
   "outputs": [],
   "source": [
    "tblStuff = getPartyTblStuff(res)"
   ]
  },
  {
   "cell_type": "code",
   "execution_count": 10,
   "metadata": {
    "collapsed": true
   },
   "outputs": [],
   "source": [
    "tblPlot, tblSource = TableDisplay(tblStuff)"
   ]
  },
  {
   "cell_type": "code",
   "execution_count": 11,
   "metadata": {
    "collapsed": false
   },
   "outputs": [],
   "source": [
    "output_file(\"dummy.html\")\n",
    "show(tblPlot)"
   ]
  },
  {
   "cell_type": "code",
   "execution_count": 14,
   "metadata": {
    "collapsed": false
   },
   "outputs": [],
   "source": [
    "tbldata = tblStuff['source'].data"
   ]
  },
  {
   "cell_type": "code",
   "execution_count": null,
   "metadata": {
    "collapsed": true
   },
   "outputs": [],
   "source": []
  }
 ],
 "metadata": {
  "kernelspec": {
   "display_name": "Python 3",
   "language": "python",
   "name": "python3"
  },
  "language_info": {
   "codemirror_mode": {
    "name": "ipython",
    "version": 3
   },
   "file_extension": ".py",
   "mimetype": "text/x-python",
   "name": "python",
   "nbconvert_exporter": "python",
   "pygments_lexer": "ipython3",
   "version": "3.6.0"
  }
 },
 "nbformat": 4,
 "nbformat_minor": 2
}
